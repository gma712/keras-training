{
 "cells": [
  {
   "cell_type": "code",
   "execution_count": 1,
   "metadata": {},
   "outputs": [
    {
     "name": "stderr",
     "output_type": "stream",
     "text": [
      "Using TensorFlow backend.\n"
     ]
    },
    {
     "name": "stdout",
     "output_type": "stream",
     "text": [
      "Downloading data from https://s3.amazonaws.com/text-datasets/imdb.npz\n",
      "17465344/17464789 [==============================] - 3s 0us/step\n"
     ]
    }
   ],
   "source": [
    "from keras.datasets import imdb\n",
    "\n",
    "(train_data, train_labels), (test_data, test_labels) = imdb.load_data(num_words=10000)"
   ]
  },
  {
   "cell_type": "code",
   "execution_count": 2,
   "metadata": {},
   "outputs": [
    {
     "name": "stdout",
     "output_type": "stream",
     "text": [
      "Downloading data from https://s3.amazonaws.com/text-datasets/imdb_word_index.json\n",
      "1646592/1641221 [==============================] - 2s 1us/step\n"
     ]
    }
   ],
   "source": [
    "word_index = imdb.get_word_index()\n",
    "reverse_word_index = dict([(value, key) for (key, value) in word_index.items()])\n",
    "decoded_review = ' '.join([reverse_word_index.get(i - 3, '?') for i in train_data[0]])"
   ]
  },
  {
   "cell_type": "code",
   "execution_count": 3,
   "metadata": {},
   "outputs": [
    {
     "data": {
      "text/plain": [
       "\"? this film was just brilliant casting location scenery story direction everyone's really suited the part they played and you could just imagine being there robert ? is an amazing actor and now the same being director ? father came from the same scottish island as myself so i loved the fact there was a real connection with this film the witty remarks throughout the film were great it was just brilliant so much that i bought the film as soon as it was released for ? and would recommend it to everyone to watch and the fly fishing was amazing really cried at the end it was so sad and you know what they say if you cry at a film it must have been good and this definitely was also ? to the two little boy's that played the ? of norman and paul they were just brilliant children are often left out of the ? list i think because the stars that play them all grown up are such a big profile for the whole film but these children are amazing and should be praised for what they have done don't you think the whole story was so lovely because it was true and was someone's life after all that was shared with us all\""
      ]
     },
     "execution_count": 3,
     "metadata": {},
     "output_type": "execute_result"
    }
   ],
   "source": [
    "decoded_review"
   ]
  },
  {
   "cell_type": "code",
   "execution_count": 4,
   "metadata": {},
   "outputs": [],
   "source": [
    "import numpy as np\n",
    "\n",
    "def vectorize_sequences(sequences, dimention=10000):\n",
    "    results = np.zeros((len(sequences), dimention))\n",
    "    for i, sequences in enumerate(sequences):\n",
    "        results[i, sequences] = 1.\n",
    "    return results\n",
    "\n",
    "x_train = vectorize_sequences(train_data)\n",
    "x_test = vectorize_sequences(test_data)\n"
   ]
  },
  {
   "cell_type": "code",
   "execution_count": 12,
   "metadata": {},
   "outputs": [
    {
     "data": {
      "text/plain": [
       "(25000, 10000)"
      ]
     },
     "execution_count": 12,
     "metadata": {},
     "output_type": "execute_result"
    }
   ],
   "source": [
    "x_train.shape"
   ]
  },
  {
   "cell_type": "code",
   "execution_count": 7,
   "metadata": {},
   "outputs": [],
   "source": [
    "y_train = np.asarray(train_labels).astype('float32')\n",
    "y_test = np.asarray(test_labels).astype('float32')"
   ]
  },
  {
   "cell_type": "code",
   "execution_count": 9,
   "metadata": {},
   "outputs": [
    {
     "data": {
      "text/plain": [
       "numpy.float32"
      ]
     },
     "execution_count": 9,
     "metadata": {},
     "output_type": "execute_result"
    }
   ],
   "source": [
    "type(y_train[0])"
   ]
  },
  {
   "cell_type": "code",
   "execution_count": 14,
   "metadata": {},
   "outputs": [],
   "source": [
    "from keras import models\n",
    "from keras import layers\n",
    "\n",
    "model = models.Sequential()\n",
    "model.add(layers.Dense(16, activation='relu', input_shape=(10000,)))\n",
    "model.add(layers.Dense(16, activation='relu'))\n",
    "model.add(layers.Dense(1, activation='sigmoid'))"
   ]
  },
  {
   "cell_type": "code",
   "execution_count": 15,
   "metadata": {},
   "outputs": [],
   "source": [
    "model.compile(\n",
    "    optimizer='rmsprop',\n",
    "    loss='binary_crossentropy',\n",
    "    metrics=['accuracy']\n",
    ")"
   ]
  },
  {
   "cell_type": "code",
   "execution_count": 16,
   "metadata": {},
   "outputs": [],
   "source": [
    "x_val = x_train[:10000]\n",
    "partial_x_train = x_train[10000:]\n",
    "\n",
    "y_val = y_train[:10000]\n",
    "partial_y_train = y_train[10000:]"
   ]
  },
  {
   "cell_type": "code",
   "execution_count": 17,
   "metadata": {},
   "outputs": [
    {
     "name": "stdout",
     "output_type": "stream",
     "text": [
      "Train on 15000 samples, validate on 10000 samples\n",
      "Epoch 1/20\n",
      "15000/15000 [==============================] - 3s 221us/step - loss: 0.5499 - acc: 0.7678 - val_loss: 0.4320 - val_acc: 0.8678\n",
      "Epoch 2/20\n",
      "15000/15000 [==============================] - 1s 77us/step - loss: 0.3465 - acc: 0.8949 - val_loss: 0.3436 - val_acc: 0.8665\n",
      "Epoch 3/20\n",
      "15000/15000 [==============================] - 1s 75us/step - loss: 0.2508 - acc: 0.9213 - val_loss: 0.2903 - val_acc: 0.8902\n",
      "Epoch 4/20\n",
      "15000/15000 [==============================] - 1s 85us/step - loss: 0.1934 - acc: 0.9388 - val_loss: 0.2846 - val_acc: 0.8883\n",
      "Epoch 5/20\n",
      "15000/15000 [==============================] - 1s 83us/step - loss: 0.1574 - acc: 0.9509 - val_loss: 0.2951 - val_acc: 0.8831\n",
      "Epoch 6/20\n",
      "15000/15000 [==============================] - 1s 84us/step - loss: 0.1282 - acc: 0.9615 - val_loss: 0.2900 - val_acc: 0.8868\n",
      "Epoch 7/20\n",
      "15000/15000 [==============================] - 1s 83us/step - loss: 0.1065 - acc: 0.9687 - val_loss: 0.3090 - val_acc: 0.8809\n",
      "Epoch 8/20\n",
      "15000/15000 [==============================] - 1s 84us/step - loss: 0.0880 - acc: 0.9750 - val_loss: 0.3255 - val_acc: 0.8799\n",
      "Epoch 9/20\n",
      "15000/15000 [==============================] - 1s 84us/step - loss: 0.0706 - acc: 0.9825 - val_loss: 0.3413 - val_acc: 0.8810\n",
      "Epoch 10/20\n",
      "15000/15000 [==============================] - 1s 77us/step - loss: 0.0586 - acc: 0.9864 - val_loss: 0.3886 - val_acc: 0.8773\n",
      "Epoch 11/20\n",
      "15000/15000 [==============================] - 1s 75us/step - loss: 0.0482 - acc: 0.9891 - val_loss: 0.3916 - val_acc: 0.8769\n",
      "Epoch 12/20\n",
      "15000/15000 [==============================] - 1s 82us/step - loss: 0.0373 - acc: 0.9929 - val_loss: 0.4305 - val_acc: 0.8779\n",
      "Epoch 13/20\n",
      "15000/15000 [==============================] - 1s 75us/step - loss: 0.0305 - acc: 0.9937 - val_loss: 0.4624 - val_acc: 0.8749\n",
      "Epoch 14/20\n",
      "15000/15000 [==============================] - 1s 76us/step - loss: 0.0249 - acc: 0.9955 - val_loss: 0.4928 - val_acc: 0.8736\n",
      "Epoch 15/20\n",
      "15000/15000 [==============================] - 1s 75us/step - loss: 0.0180 - acc: 0.9973 - val_loss: 0.5237 - val_acc: 0.8662\n",
      "Epoch 16/20\n",
      "15000/15000 [==============================] - 1s 80us/step - loss: 0.0152 - acc: 0.9977 - val_loss: 0.5471 - val_acc: 0.8702\n",
      "Epoch 17/20\n",
      "15000/15000 [==============================] - 1s 82us/step - loss: 0.0094 - acc: 0.9989 - val_loss: 0.5807 - val_acc: 0.8685\n",
      "Epoch 18/20\n",
      "15000/15000 [==============================] - 1s 84us/step - loss: 0.0085 - acc: 0.9991 - val_loss: 0.6838 - val_acc: 0.8537\n",
      "Epoch 19/20\n",
      "15000/15000 [==============================] - 1s 84us/step - loss: 0.0051 - acc: 0.9995 - val_loss: 0.6608 - val_acc: 0.8690\n",
      "Epoch 20/20\n",
      "15000/15000 [==============================] - 1s 84us/step - loss: 0.0062 - acc: 0.9988 - val_loss: 0.6792 - val_acc: 0.8661\n"
     ]
    }
   ],
   "source": [
    "model.compile(\n",
    "    optimizer='rmsprop',\n",
    "    loss='binary_crossentropy',\n",
    "    metrics=['acc']\n",
    ")\n",
    "\n",
    "history = model.fit(\n",
    "    partial_x_train,\n",
    "    partial_y_train,\n",
    "    epochs=20,\n",
    "    batch_size=512,\n",
    "    validation_data=(x_val, y_val))"
   ]
  },
  {
   "cell_type": "code",
   "execution_count": 20,
   "metadata": {},
   "outputs": [
    {
     "data": {
      "image/png": "[encoded data removed]",
      "text/plain": [
       "<Figure size 432x288 with 1 Axes>"
      ]
     },
     "metadata": {
      "needs_background": "light"
     },
     "output_type": "display_data"
    }
   ],
   "source": [
    "import matplotlib.pyplot as plt\n",
    "\n",
    "history_dict = history.history\n",
    "loss_values = history_dict['loss']\n",
    "val_loss_values = history_dict['val_loss']\n",
    "\n",
    "epochs = range(1, len(loss_values) + 1)\n",
    "\n",
    "plt.plot(epochs, loss_values, 'bo', label='Training loss')\n",
    "plt.plot(epochs, val_loss_values, 'b', label='Validation loss')\n",
    "\n",
    "plt.title('Training and validation loss')\n",
    "plt.xlabel('Epochs')\n",
    "plt.ylabel('Loss')\n",
    "plt.legend()\n",
    "plt.show()"
   ]
  },
  {
   "cell_type": "code",
   "execution_count": 21,
   "metadata": {},
   "outputs": [
    {
     "data": {
      "text/plain": [
       "<Figure size 432x288 with 0 Axes>"
      ]
     },
     "metadata": {},
     "output_type": "display_data"
    }
   ],
   "source": [
    "plt.clf()"
   ]
  },
  {
   "cell_type": "code",
   "execution_count": null,
   "metadata": {},
   "outputs": [],
   "source": []
  }
 ],
 "metadata": {
  "kernelspec": {
   "display_name": "Python 3",
   "language": "python",
   "name": "python3"
  },
  "language_info": {
   "codemirror_mode": {
    "name": "ipython",
    "version": 3
   },
   "file_extension": ".py",
   "mimetype": "text/x-python",
   "name": "python",
   "nbconvert_exporter": "python",
   "pygments_lexer": "ipython3",
   "version": "3.6.6"
  }
 },
 "nbformat": 4,
 "nbformat_minor": 2
}
