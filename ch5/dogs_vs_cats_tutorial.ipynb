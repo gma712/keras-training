{
 "cells": [
  {
   "cell_type": "code",
   "execution_count": 8,
   "metadata": {},
   "outputs": [],
   "source": [
    "import os, shutil\n",
    "\n",
    "\n",
    "\n",
    "base_dir = './cats_and_dogs_small'\n",
    "os.mkdir(base_dir)\n",
    "\n",
    "train_dir = os.path.join(base_dir, 'train')\n",
    "os.mkdir(train_dir)\n",
    "validation_dir = os.path.join(base_dir, 'validation')\n",
    "os.mkdir(validation_dir)\n",
    "test_dir = os.path.join(base_dir, 'test')\n",
    "os.mkdir(test_dir)\n",
    "\n",
    "train_cats_dir = os.path.join(train_dir, 'cats')\n",
    "os.mkdir(train_cats_dir)\n",
    "\n",
    "train_dogs_dir = os.path.join(train_dir, 'dogs')\n",
    "os.mkdir(train_dogs_dir)\n",
    "\n",
    "validation_cats_dir = os.path.join(validation_dir, 'cats')\n",
    "os.mkdir(validation_cats_dir)\n",
    "\n",
    "validation_dogs_dir = os.path.join(validation_dir, 'dogs')\n",
    "os.mkdir(validation_dogs_dir)\n",
    "\n",
    "test_cats_dir = os.path.join(test_dir, 'cats')\n",
    "os.mkdir(test_cats_dir)\n",
    "\n",
    "test_dogs_dir = os.path.join(test_dir, 'dogs')\n",
    "os.mkdir(test_dogs_dir)"
   ]
  },
  {
   "cell_type": "code",
   "execution_count": 9,
   "metadata": {},
   "outputs": [],
   "source": [
    "original_dataset_dir = '../data/dogs-vs-cats/train'\n",
    "\n",
    "fnames = ['cat.{}.jpg'.format(i) for i in range(1000)]\n",
    "for fname in fnames:\n",
    "    src = os.path.join(original_dataset_dir, fname)\n",
    "    dst = os.path.join(train_cats_dir, fname)\n",
    "    shutil.copyfile(src, dst)\n",
    "\n",
    "fnames = ['cat.{}.jpg'.format(i) for i in range(1000, 1500)]\n",
    "for fname in fnames:\n",
    "    src = os.path.join(original_dataset_dir, fname)\n",
    "    dst = os.path.join(validation_cats_dir, fname)\n",
    "    shutil.copyfile(src, dst)\n",
    "    \n",
    "fnames = ['cat.{}.jpg'.format(i) for i in range(1500, 2000)]\n",
    "for fname in fnames:\n",
    "    src = os.path.join(original_dataset_dir, fname)\n",
    "    dst = os.path.join(test_cats_dir, fname)\n",
    "    shutil.copyfile(src, dst)\n",
    "    \n",
    "fnames = ['dog.{}.jpg'.format(i) for i in range(1000)]\n",
    "for fname in fnames:\n",
    "    src = os.path.join(original_dataset_dir, fname)\n",
    "    dst = os.path.join(train_dogs_dir, fname)\n",
    "    shutil.copyfile(src, dst)\n",
    "\n",
    "fnames = ['dog.{}.jpg'.format(i) for i in range(1000, 1500)]\n",
    "for fname in fnames:\n",
    "    src = os.path.join(original_dataset_dir, fname)\n",
    "    dst = os.path.join(validation_dogs_dir, fname)\n",
    "    shutil.copyfile(src, dst)\n",
    "    \n",
    "fnames = ['dog.{}.jpg'.format(i) for i in range(1500, 2000)]\n",
    "for fname in fnames:\n",
    "    src = os.path.join(original_dataset_dir, fname)\n",
    "    dst = os.path.join(test_dogs_dir, fname)\n",
    "    shutil.copyfile(src, dst)"
   ]
  },
  {
   "cell_type": "code",
   "execution_count": 10,
   "metadata": {},
   "outputs": [],
   "source": [
    "from keras import layers\n",
    "from keras import models\n",
    "\n",
    "model = models.Sequential()\n",
    "model.add(layers.Conv2D(32, (3, 3), activation='relu', input_shape=(150, 150, 3)))\n",
    "model.add(layers.MaxPooling2D(2, 2))\n",
    "model.add(layers.Conv2D(64, (3, 3), activation='relu'))\n",
    "model.add(layers.MaxPooling2D(2, 2))\n",
    "model.add(layers.Conv2D(128, (3, 3), activation='relu'))\n",
    "model.add(layers.MaxPooling2D(2, 2))\n",
    "model.add(layers.Conv2D(128, (3, 3), activation='relu'))\n",
    "model.add(layers.MaxPooling2D(2, 2))\n",
    "\n",
    "model.add(layers.Flatten())\n",
    "model.add(layers.Dense(512, activation='relu'))\n",
    "model.add(layers.Dense(1, activation='sigmoid'))"
   ]
  },
  {
   "cell_type": "code",
   "execution_count": 11,
   "metadata": {},
   "outputs": [
    {
     "name": "stdout",
     "output_type": "stream",
     "text": [
      "_________________________________________________________________\n",
      "Layer (type)                 Output Shape              Param #   \n",
      "=================================================================\n",
      "conv2d_5 (Conv2D)            (None, 148, 148, 32)      896       \n",
      "_________________________________________________________________\n",
      "max_pooling2d_5 (MaxPooling2 (None, 74, 74, 32)        0         \n",
      "_________________________________________________________________\n",
      "conv2d_6 (Conv2D)            (None, 72, 72, 64)        18496     \n",
      "_________________________________________________________________\n",
      "max_pooling2d_6 (MaxPooling2 (None, 36, 36, 64)        0         \n",
      "_________________________________________________________________\n",
      "conv2d_7 (Conv2D)            (None, 34, 34, 128)       73856     \n",
      "_________________________________________________________________\n",
      "max_pooling2d_7 (MaxPooling2 (None, 17, 17, 128)       0         \n",
      "_________________________________________________________________\n",
      "conv2d_8 (Conv2D)            (None, 15, 15, 128)       147584    \n",
      "_________________________________________________________________\n",
      "max_pooling2d_8 (MaxPooling2 (None, 7, 7, 128)         0         \n",
      "_________________________________________________________________\n",
      "flatten_2 (Flatten)          (None, 6272)              0         \n",
      "_________________________________________________________________\n",
      "dense_3 (Dense)              (None, 512)               3211776   \n",
      "_________________________________________________________________\n",
      "dense_4 (Dense)              (None, 1)                 513       \n",
      "=================================================================\n",
      "Total params: 3,453,121\n",
      "Trainable params: 3,453,121\n",
      "Non-trainable params: 0\n",
      "_________________________________________________________________\n"
     ]
    }
   ],
   "source": [
    "model.summary()"
   ]
  },
  {
   "cell_type": "code",
   "execution_count": 12,
   "metadata": {},
   "outputs": [],
   "source": [
    "from keras import optimizers\n",
    "\n",
    "model.compile(\n",
    "    loss='binary_crossentropy',\n",
    "    optimizer=optimizers.RMSprop(lr=1e-4),\n",
    "    metrics=['acc']\n",
    ")"
   ]
  },
  {
   "cell_type": "code",
   "execution_count": 13,
   "metadata": {},
   "outputs": [
    {
     "name": "stdout",
     "output_type": "stream",
     "text": [
      "Found 2000 images belonging to 2 classes.\n",
      "Found 1000 images belonging to 2 classes.\n"
     ]
    }
   ],
   "source": [
    "from keras.preprocessing.image import ImageDataGenerator\n",
    "\n",
    "train_datagen = ImageDataGenerator(rescale=1. /255)\n",
    "test_datagen = ImageDataGenerator(rescale=1. /255)\n",
    "\n",
    "train_generator = train_datagen.flow_from_directory(\n",
    "    train_dir,\n",
    "    target_size=(150, 150),\n",
    "    batch_size=20,\n",
    "    class_mode='binary'\n",
    ")\n",
    "\n",
    "validation_generator = test_datagen.flow_from_directory(\n",
    "    validation_dir,\n",
    "    target_size=(150, 150),\n",
    "    batch_size=20,\n",
    "    class_mode='binary'\n",
    ")"
   ]
  },
  {
   "cell_type": "code",
   "execution_count": 11,
   "metadata": {},
   "outputs": [
    {
     "name": "stdout",
     "output_type": "stream",
     "text": [
      "Epoch 1/30\n",
      "100/100 [==============================] - 62s 616ms/step - loss: 0.6880 - acc: 0.5330 - val_loss: 0.6718 - val_acc: 0.6230\n",
      "Epoch 2/30\n",
      "100/100 [==============================] - 64s 640ms/step - loss: 0.6431 - acc: 0.6375 - val_loss: 0.6712 - val_acc: 0.5760\n",
      "Epoch 3/30\n",
      "100/100 [==============================] - 63s 628ms/step - loss: 0.5989 - acc: 0.6790 - val_loss: 0.6297 - val_acc: 0.6520\n",
      "Epoch 4/30\n",
      "100/100 [==============================] - 64s 636ms/step - loss: 0.5596 - acc: 0.7090 - val_loss: 0.5917 - val_acc: 0.6810\n",
      "Epoch 5/30\n",
      "100/100 [==============================] - 65s 646ms/step - loss: 0.5226 - acc: 0.7380 - val_loss: 0.5838 - val_acc: 0.6850\n",
      "Epoch 6/30\n",
      "100/100 [==============================] - 64s 637ms/step - loss: 0.4914 - acc: 0.7655 - val_loss: 0.5798 - val_acc: 0.7010\n",
      "Epoch 7/30\n",
      "100/100 [==============================] - 64s 639ms/step - loss: 0.4659 - acc: 0.7790 - val_loss: 0.6169 - val_acc: 0.6800\n",
      "Epoch 8/30\n",
      "100/100 [==============================] - 64s 638ms/step - loss: 0.4299 - acc: 0.7920 - val_loss: 0.5672 - val_acc: 0.7220\n",
      "Epoch 9/30\n",
      "100/100 [==============================] - 63s 630ms/step - loss: 0.4090 - acc: 0.8165 - val_loss: 0.6081 - val_acc: 0.7010\n",
      "Epoch 10/30\n",
      "100/100 [==============================] - 63s 630ms/step - loss: 0.3850 - acc: 0.8240 - val_loss: 0.5633 - val_acc: 0.7220\n",
      "Epoch 11/30\n",
      "100/100 [==============================] - 63s 628ms/step - loss: 0.3575 - acc: 0.8455 - val_loss: 0.5619 - val_acc: 0.7420\n",
      "Epoch 12/30\n",
      "100/100 [==============================] - 62s 623ms/step - loss: 0.3301 - acc: 0.8630 - val_loss: 0.5863 - val_acc: 0.7400\n",
      "Epoch 13/30\n",
      "100/100 [==============================] - 64s 636ms/step - loss: 0.3146 - acc: 0.8655 - val_loss: 0.5689 - val_acc: 0.7320\n",
      "Epoch 14/30\n",
      "100/100 [==============================] - 62s 622ms/step - loss: 0.2903 - acc: 0.8810 - val_loss: 0.6204 - val_acc: 0.7160\n",
      "Epoch 15/30\n",
      "100/100 [==============================] - 61s 615ms/step - loss: 0.2655 - acc: 0.8895 - val_loss: 0.6262 - val_acc: 0.7280\n",
      "Epoch 16/30\n",
      "100/100 [==============================] - 63s 632ms/step - loss: 0.2424 - acc: 0.8985 - val_loss: 0.6221 - val_acc: 0.7280\n",
      "Epoch 17/30\n",
      "100/100 [==============================] - 63s 633ms/step - loss: 0.2213 - acc: 0.9155 - val_loss: 0.6299 - val_acc: 0.7340\n",
      "Epoch 18/30\n",
      "100/100 [==============================] - 64s 635ms/step - loss: 0.2060 - acc: 0.9235 - val_loss: 0.6910 - val_acc: 0.7230\n",
      "Epoch 19/30\n",
      "100/100 [==============================] - 64s 640ms/step - loss: 0.1855 - acc: 0.9330 - val_loss: 0.6716 - val_acc: 0.7390\n",
      "Epoch 20/30\n",
      "100/100 [==============================] - 64s 644ms/step - loss: 0.1695 - acc: 0.9380 - val_loss: 0.6729 - val_acc: 0.7290\n",
      "Epoch 21/30\n",
      "100/100 [==============================] - 65s 645ms/step - loss: 0.1476 - acc: 0.9470 - val_loss: 0.8470 - val_acc: 0.7120\n",
      "Epoch 22/30\n",
      "100/100 [==============================] - 65s 646ms/step - loss: 0.1252 - acc: 0.9525 - val_loss: 0.7720 - val_acc: 0.7320\n",
      "Epoch 23/30\n",
      "100/100 [==============================] - 64s 644ms/step - loss: 0.1137 - acc: 0.9585 - val_loss: 0.7694 - val_acc: 0.7380\n",
      "Epoch 24/30\n",
      "100/100 [==============================] - 64s 640ms/step - loss: 0.0949 - acc: 0.9745 - val_loss: 0.9062 - val_acc: 0.7210\n",
      "Epoch 25/30\n",
      "100/100 [==============================] - 64s 639ms/step - loss: 0.0844 - acc: 0.9725 - val_loss: 1.0188 - val_acc: 0.7020\n",
      "Epoch 26/30\n",
      "100/100 [==============================] - 64s 640ms/step - loss: 0.0802 - acc: 0.9760 - val_loss: 0.8408 - val_acc: 0.7420\n",
      "Epoch 27/30\n",
      "100/100 [==============================] - 64s 638ms/step - loss: 0.0615 - acc: 0.9855 - val_loss: 0.9972 - val_acc: 0.7250\n",
      "Epoch 28/30\n",
      "100/100 [==============================] - 65s 652ms/step - loss: 0.0551 - acc: 0.9815 - val_loss: 0.9531 - val_acc: 0.7430\n",
      "Epoch 29/30\n",
      "100/100 [==============================] - 63s 626ms/step - loss: 0.0509 - acc: 0.9850 - val_loss: 1.0932 - val_acc: 0.7110\n",
      "Epoch 30/30\n",
      "100/100 [==============================] - 64s 641ms/step - loss: 0.0405 - acc: 0.9895 - val_loss: 1.0086 - val_acc: 0.7330\n"
     ]
    }
   ],
   "source": [
    "history = model.fit_generator(\n",
    "    train_generator,\n",
    "    steps_per_epoch=100,\n",
    "    epochs=30,\n",
    "    validation_data=validation_generator,\n",
    "    validation_steps=50\n",
    ")"
   ]
  },
  {
   "cell_type": "code",
   "execution_count": 13,
   "metadata": {},
   "outputs": [
    {
     "data": {
      "image/png": "[encoded data removed]",
      "text/plain": [
       "<Figure size 432x288 with 1 Axes>"
      ]
     },
     "metadata": {
      "needs_background": "light"
     },
     "output_type": "display_data"
    },
    {
     "data": {
      "image/png": "[encoded data removed]",
      "text/plain": [
       "<Figure size 432x288 with 1 Axes>"
      ]
     },
     "metadata": {
      "needs_background": "light"
     },
     "output_type": "display_data"
    }
   ],
   "source": [
    "import matplotlib.pyplot as plt\n",
    "\n",
    "acc = history.history['acc']\n",
    "val_acc = history.history['val_acc']\n",
    "loss = history.history['loss']\n",
    "val_loss = history.history['val_loss']\n",
    "\n",
    "epochs = range(1, len(acc) + 1)\n",
    "\n",
    "plt.plot(epochs, acc, 'bo', label='Training acc')\n",
    "plt.plot(epochs, val_acc, 'b', label='Validation acc')\n",
    "plt.title('Training and validation accuracy')\n",
    "plt.legend()\n",
    "\n",
    "plt.figure()\n",
    "\n",
    "plt.plot(epochs, loss, 'bo', label='Training loss')\n",
    "plt.plot(epochs, val_loss, 'b', label='Validation loss')\n",
    "plt.title('Training and validation loss')\n",
    "plt.legend()\n",
    "\n",
    "plt.show()"
   ]
  },
  {
   "cell_type": "code",
   "execution_count": 14,
   "metadata": {},
   "outputs": [],
   "source": [
    "#データ拡張の実施\n",
    "\n",
    "datagen = ImageDataGenerator(\n",
    "    rotation_range=40,\n",
    "    width_shift_range=0.2,\n",
    "    height_shift_range=0.2,\n",
    "    shear_range=0.2,\n",
    "    zoom_range=0.2,\n",
    "    horizontal_flip=True,\n",
    "    fill_mode='nearest'\n",
    ")"
   ]
  },
  {
   "cell_type": "code",
   "execution_count": 16,
   "metadata": {},
   "outputs": [
    {
     "name": "stdout",
     "output_type": "stream",
     "text": [
      "dog.1999.jpg\n"
     ]
    },
    {
     "data": {
      "text/plain": [
       "<Figure size 640x480 with 1 Axes>"
      ]
     },
     "metadata": {},
     "output_type": "display_data"
    },
    {
     "data": {
      "text/plain": [
       "<Figure size 640x480 with 1 Axes>"
      ]
     },
     "metadata": {},
     "output_type": "display_data"
    },
    {
     "data": {
      "text/plain": [
       "<Figure size 640x480 with 1 Axes>"
      ]
     },
     "metadata": {},
     "output_type": "display_data"
    },
    {
     "data": {
      "text/plain": [
       "<Figure size 640x480 with 1 Axes>"
      ]
     },
     "metadata": {},
     "output_type": "display_data"
    }
   ],
   "source": [
    "from keras.preprocessing import image\n",
    "import matplotlib.pyplot as plt\n",
    "\n",
    "fnames = [os.path.join(train_cats_dir, fname) for fname in os.listdir(train_cats_dir)]\n",
    "\n",
    "img_path = fnames[3]\n",
    "print(fname)\n",
    "img = image.load_img(img_path, target_size=(150, 150))\n",
    "\n",
    "x = image.img_to_array(img)\n",
    "x = x.reshape((1,) + x.shape)\n",
    "\n",
    "i = 0\n",
    "for batch in datagen.flow(x, batch_size=1):\n",
    "    plt.figure(i)\n",
    "    imgplot = plt.imshow(image.array_to_img(batch[0]))\n",
    "    i += 1\n",
    "    if i % 4 == 0:\n",
    "        break\n",
    "        \n",
    "plt.show()"
   ]
  },
  {
   "cell_type": "code",
   "execution_count": 17,
   "metadata": {},
   "outputs": [],
   "source": [
    "model = models.Sequential()\n",
    "model.add(layers.Conv2D(32, (3, 3), activation='relu', input_shape=(150, 150, 3)))\n",
    "model.add(layers.MaxPooling2D(2, 2))\n",
    "model.add(layers.Conv2D(64, (3, 3), activation='relu'))\n",
    "model.add(layers.MaxPooling2D(2, 2))\n",
    "model.add(layers.Conv2D(128, (3, 3), activation='relu'))\n",
    "model.add(layers.MaxPooling2D(2, 2))\n",
    "model.add(layers.Conv2D(128, (3, 3), activation='relu'))\n",
    "model.add(layers.MaxPooling2D(2, 2))\n",
    "\n",
    "model.add(layers.Flatten())\n",
    "model.add(layers.Dropout(0.5))\n",
    "model.add(layers.Dense(512, activation='relu'))\n",
    "model.add(layers.Dense(1, activation='sigmoid'))\n",
    "\n",
    "model.compile(loss='binary_crossentropy', optimizer=optimizers.RMSprop(lr=1e-4), metrics=['acc'])"
   ]
  },
  {
   "cell_type": "code",
   "execution_count": null,
   "metadata": {},
   "outputs": [
    {
     "name": "stdout",
     "output_type": "stream",
     "text": [
      "Found 2000 images belonging to 2 classes.\n",
      "Found 1000 images belonging to 2 classes.\n",
      "Epoch 1/100\n",
      "100/100 [==============================] - 89s 891ms/step - loss: 0.6914 - acc: 0.5294 - val_loss: 0.6761 - val_acc: 0.5698\n",
      "Epoch 2/100\n",
      "100/100 [==============================] - 88s 880ms/step - loss: 0.6803 - acc: 0.5584 - val_loss: 0.6528 - val_acc: 0.6076\n",
      "Epoch 3/100\n",
      "100/100 [==============================] - 94s 938ms/step - loss: 0.6654 - acc: 0.5962 - val_loss: 0.6360 - val_acc: 0.6218\n",
      "Epoch 4/100\n",
      "100/100 [==============================] - 94s 937ms/step - loss: 0.6541 - acc: 0.6162 - val_loss: 0.6419 - val_acc: 0.6070\n",
      "Epoch 5/100\n",
      "100/100 [==============================] - 97s 972ms/step - loss: 0.6356 - acc: 0.6378 - val_loss: 0.6025 - val_acc: 0.6720\n",
      "Epoch 6/100\n",
      "100/100 [==============================] - 97s 969ms/step - loss: 0.6217 - acc: 0.6478 - val_loss: 0.6335 - val_acc: 0.6134\n",
      "Epoch 7/100\n",
      "100/100 [==============================] - 96s 962ms/step - loss: 0.6052 - acc: 0.6691 - val_loss: 0.5938 - val_acc: 0.6669\n",
      "Epoch 8/100\n",
      "100/100 [==============================] - 95s 945ms/step - loss: 0.6050 - acc: 0.6684 - val_loss: 0.5674 - val_acc: 0.7030\n",
      "Epoch 9/100\n",
      "100/100 [==============================] - 95s 945ms/step - loss: 0.5892 - acc: 0.6866 - val_loss: 0.5677 - val_acc: 0.6997\n",
      "Epoch 10/100\n",
      "100/100 [==============================] - 95s 948ms/step - loss: 0.5860 - acc: 0.6912 - val_loss: 0.5967 - val_acc: 0.6548\n",
      "Epoch 11/100\n",
      "100/100 [==============================] - 94s 941ms/step - loss: 0.5698 - acc: 0.7069 - val_loss: 0.5593 - val_acc: 0.6991\n",
      "Epoch 12/100\n",
      "100/100 [==============================] - 95s 952ms/step - loss: 0.5724 - acc: 0.7022 - val_loss: 0.5488 - val_acc: 0.7119\n",
      "Epoch 13/100\n",
      "100/100 [==============================] - 96s 965ms/step - loss: 0.5650 - acc: 0.6981 - val_loss: 0.5383 - val_acc: 0.7184\n",
      "Epoch 14/100\n",
      "100/100 [==============================] - 95s 953ms/step - loss: 0.5584 - acc: 0.7106 - val_loss: 0.5231 - val_acc: 0.7183\n",
      "Epoch 15/100\n",
      "100/100 [==============================] - 94s 945ms/step - loss: 0.5589 - acc: 0.7091 - val_loss: 0.5297 - val_acc: 0.7274\n",
      "Epoch 16/100\n",
      "100/100 [==============================] - 94s 940ms/step - loss: 0.5405 - acc: 0.7269 - val_loss: 0.5090 - val_acc: 0.7307\n",
      "Epoch 17/100\n",
      "100/100 [==============================] - 95s 951ms/step - loss: 0.5384 - acc: 0.7244 - val_loss: 0.7362 - val_acc: 0.6377\n",
      "Epoch 18/100\n",
      "100/100 [==============================] - 89s 887ms/step - loss: 0.5380 - acc: 0.7328 - val_loss: 0.5453 - val_acc: 0.7268\n",
      "Epoch 19/100\n",
      "100/100 [==============================] - 94s 944ms/step - loss: 0.5377 - acc: 0.7262 - val_loss: 0.5349 - val_acc: 0.7310\n",
      "Epoch 20/100\n",
      "100/100 [==============================] - 95s 946ms/step - loss: 0.5296 - acc: 0.7328 - val_loss: 0.5070 - val_acc: 0.7474\n",
      "Epoch 21/100\n",
      "100/100 [==============================] - 94s 945ms/step - loss: 0.5199 - acc: 0.7366 - val_loss: 0.5179 - val_acc: 0.7443\n",
      "Epoch 22/100\n",
      "100/100 [==============================] - 94s 944ms/step - loss: 0.5335 - acc: 0.7353 - val_loss: 0.5003 - val_acc: 0.7474\n",
      "Epoch 23/100\n",
      "100/100 [==============================] - 90s 898ms/step - loss: 0.5172 - acc: 0.7397 - val_loss: 0.5037 - val_acc: 0.7532\n",
      "Epoch 24/100\n",
      "100/100 [==============================] - 94s 937ms/step - loss: 0.5145 - acc: 0.7450 - val_loss: 0.4910 - val_acc: 0.7532\n",
      "Epoch 25/100\n",
      "100/100 [==============================] - 94s 938ms/step - loss: 0.5154 - acc: 0.7466 - val_loss: 0.4762 - val_acc: 0.7642\n",
      "Epoch 26/100\n",
      "100/100 [==============================] - 94s 939ms/step - loss: 0.5011 - acc: 0.7538 - val_loss: 0.5292 - val_acc: 0.7284\n",
      "Epoch 27/100\n",
      "100/100 [==============================] - 103s 1s/step - loss: 0.5042 - acc: 0.7500 - val_loss: 0.4937 - val_acc: 0.7371\n",
      "Epoch 28/100\n",
      "100/100 [==============================] - 93s 925ms/step - loss: 0.4942 - acc: 0.7519 - val_loss: 0.4760 - val_acc: 0.7665\n",
      "Epoch 29/100\n",
      "100/100 [==============================] - 90s 901ms/step - loss: 0.5087 - acc: 0.7484 - val_loss: 0.4735 - val_acc: 0.7693\n",
      "Epoch 30/100\n",
      "100/100 [==============================] - 90s 904ms/step - loss: 0.5061 - acc: 0.7528 - val_loss: 0.4833 - val_acc: 0.7621\n",
      "Epoch 31/100\n",
      "100/100 [==============================] - 88s 876ms/step - loss: 0.4985 - acc: 0.7609 - val_loss: 0.4690 - val_acc: 0.7590\n",
      "Epoch 32/100\n",
      "100/100 [==============================] - 142s 1s/step - loss: 0.4850 - acc: 0.7637 - val_loss: 0.5094 - val_acc: 0.7468\n",
      "Epoch 33/100\n",
      "100/100 [==============================] - 150s 2s/step - loss: 0.4920 - acc: 0.7613 - val_loss: 0.4513 - val_acc: 0.7798\n",
      "Epoch 34/100\n",
      "100/100 [==============================] - 146s 1s/step - loss: 0.4740 - acc: 0.7803 - val_loss: 0.4832 - val_acc: 0.7564\n",
      "Epoch 35/100\n",
      "100/100 [==============================] - 146s 1s/step - loss: 0.4745 - acc: 0.7700 - val_loss: 0.4492 - val_acc: 0.7830\n",
      "Epoch 36/100\n",
      "100/100 [==============================] - 148s 1s/step - loss: 0.4749 - acc: 0.7756 - val_loss: 0.4720 - val_acc: 0.7706\n",
      "Epoch 37/100\n",
      "100/100 [==============================] - 134s 1s/step - loss: 0.4704 - acc: 0.7788 - val_loss: 0.5182 - val_acc: 0.7322\n",
      "Epoch 38/100\n",
      "100/100 [==============================] - 93s 934ms/step - loss: 0.4651 - acc: 0.7822 - val_loss: 0.4626 - val_acc: 0.7764\n",
      "Epoch 39/100\n",
      "100/100 [==============================] - 94s 937ms/step - loss: 0.4745 - acc: 0.7800 - val_loss: 0.4510 - val_acc: 0.7931\n",
      "Epoch 40/100\n",
      "100/100 [==============================] - 94s 938ms/step - loss: 0.4716 - acc: 0.7803 - val_loss: 0.4729 - val_acc: 0.7829\n",
      "Epoch 41/100\n",
      "100/100 [==============================] - 96s 962ms/step - loss: 0.4616 - acc: 0.7706 - val_loss: 0.4702 - val_acc: 0.7597\n",
      "Epoch 42/100\n",
      "100/100 [==============================] - 94s 937ms/step - loss: 0.4662 - acc: 0.7853 - val_loss: 0.4520 - val_acc: 0.7760\n",
      "Epoch 43/100\n",
      "100/100 [==============================] - 94s 936ms/step - loss: 0.4675 - acc: 0.7725 - val_loss: 0.4365 - val_acc: 0.7874\n",
      "Epoch 44/100\n",
      "100/100 [==============================] - 91s 914ms/step - loss: 0.4670 - acc: 0.7794 - val_loss: 0.4687 - val_acc: 0.7824\n",
      "Epoch 45/100\n",
      "100/100 [==============================] - 93s 931ms/step - loss: 0.4469 - acc: 0.7966 - val_loss: 0.4494 - val_acc: 0.7841\n",
      "Epoch 46/100\n",
      "100/100 [==============================] - 93s 933ms/step - loss: 0.4555 - acc: 0.7894 - val_loss: 0.4362 - val_acc: 0.7951\n",
      "Epoch 47/100\n",
      "100/100 [==============================] - 97s 967ms/step - loss: 0.4536 - acc: 0.7809 - val_loss: 0.4855 - val_acc: 0.7674\n",
      "Epoch 48/100\n",
      "100/100 [==============================] - 93s 930ms/step - loss: 0.4480 - acc: 0.7875 - val_loss: 0.6167 - val_acc: 0.7416\n",
      "Epoch 49/100\n",
      "100/100 [==============================] - 95s 949ms/step - loss: 0.4354 - acc: 0.7900 - val_loss: 0.4564 - val_acc: 0.7855\n",
      "Epoch 50/100\n",
      "100/100 [==============================] - 96s 956ms/step - loss: 0.4492 - acc: 0.7881 - val_loss: 0.4715 - val_acc: 0.7861\n",
      "Epoch 51/100\n",
      "100/100 [==============================] - 93s 929ms/step - loss: 0.4470 - acc: 0.7897 - val_loss: 0.4887 - val_acc: 0.7671\n",
      "Epoch 52/100\n",
      "100/100 [==============================] - 95s 951ms/step - loss: 0.4419 - acc: 0.7841 - val_loss: 0.4706 - val_acc: 0.7816\n",
      "Epoch 53/100\n",
      "100/100 [==============================] - 98s 977ms/step - loss: 0.4402 - acc: 0.7881 - val_loss: 0.4256 - val_acc: 0.7970\n",
      "Epoch 54/100\n",
      "100/100 [==============================] - 98s 978ms/step - loss: 0.4258 - acc: 0.8078 - val_loss: 0.4299 - val_acc: 0.7848\n",
      "Epoch 55/100\n",
      "100/100 [==============================] - 95s 950ms/step - loss: 0.4381 - acc: 0.8069 - val_loss: 0.4460 - val_acc: 0.7786\n",
      "Epoch 56/100\n",
      "100/100 [==============================] - 95s 952ms/step - loss: 0.4369 - acc: 0.8006 - val_loss: 0.5352 - val_acc: 0.7513\n",
      "Epoch 57/100\n",
      "100/100 [==============================] - 95s 946ms/step - loss: 0.4463 - acc: 0.7978 - val_loss: 0.4392 - val_acc: 0.7951\n",
      "Epoch 58/100\n",
      "100/100 [==============================] - 96s 964ms/step - loss: 0.4128 - acc: 0.8100 - val_loss: 0.4314 - val_acc: 0.7995\n",
      "Epoch 59/100\n",
      "100/100 [==============================] - 96s 962ms/step - loss: 0.4157 - acc: 0.8125 - val_loss: 0.4544 - val_acc: 0.7874\n",
      "Epoch 60/100\n"
     ]
    },
    {
     "name": "stdout",
     "output_type": "stream",
     "text": [
      "100/100 [==============================] - 95s 947ms/step - loss: 0.4233 - acc: 0.8012 - val_loss: 0.4654 - val_acc: 0.7925\n",
      "Epoch 61/100\n",
      "100/100 [==============================] - 99s 993ms/step - loss: 0.4237 - acc: 0.8081 - val_loss: 0.4281 - val_acc: 0.7990\n",
      "Epoch 62/100\n",
      "100/100 [==============================] - 97s 969ms/step - loss: 0.4051 - acc: 0.8169 - val_loss: 0.4561 - val_acc: 0.7754\n",
      "Epoch 63/100\n",
      "100/100 [==============================] - 96s 963ms/step - loss: 0.4266 - acc: 0.7984 - val_loss: 0.4469 - val_acc: 0.8061\n",
      "Epoch 64/100\n",
      "100/100 [==============================] - 96s 963ms/step - loss: 0.4020 - acc: 0.8163 - val_loss: 0.5099 - val_acc: 0.7777\n",
      "Epoch 65/100\n",
      "100/100 [==============================] - 97s 967ms/step - loss: 0.4099 - acc: 0.8106 - val_loss: 0.4311 - val_acc: 0.8084\n",
      "Epoch 66/100\n",
      "100/100 [==============================] - 99s 989ms/step - loss: 0.4013 - acc: 0.8200 - val_loss: 0.4853 - val_acc: 0.7945\n",
      "Epoch 67/100\n",
      " 23/100 [=====>........................] - ETA: 1:05 - loss: 0.4072 - acc: 0.8111"
     ]
    }
   ],
   "source": [
    "train_datagen = ImageDataGenerator(\n",
    "    rescale=1. /255,\n",
    "    rotation_range=40,\n",
    "    width_shift_range=0.2,\n",
    "    height_shift_range=0.2,\n",
    "    shear_range=0.2,\n",
    "    zoom_range=0.2,\n",
    "    horizontal_flip=True\n",
    ")\n",
    "\n",
    "test_datagen = ImageDataGenerator(rescale=1. /255)\n",
    "\n",
    "train_generator = train_datagen.flow_from_directory(\n",
    "    train_dir,\n",
    "    target_size=(150, 150),\n",
    "    batch_size=32,\n",
    "    class_mode='binary')\n",
    "\n",
    "validation_generator = test_datagen.flow_from_directory(\n",
    "    validation_dir,\n",
    "    target_size=(150, 150),\n",
    "    batch_size=32,\n",
    "    class_mode='binary')\n",
    "\n",
    "history = model.fit_generator(\n",
    "    train_generator,\n",
    "    steps_per_epoch=100,\n",
    "    epochs=100,\n",
    "    validation_data=validation_generator,\n",
    "    validation_steps=50)"
   ]
  },
  {
   "cell_type": "code",
   "execution_count": null,
   "metadata": {},
   "outputs": [],
   "source": [
    "model.save('cats_and_dogs_small_2.h5')"
   ]
  },
  {
   "cell_type": "code",
   "execution_count": null,
   "metadata": {},
   "outputs": [],
   "source": []
  }
 ],
 "metadata": {
  "kernelspec": {
   "display_name": "Python 3",
   "language": "python",
   "name": "python3"
  },
  "language_info": {
   "codemirror_mode": {
    "name": "ipython",
    "version": 3
   },
   "file_extension": ".py",
   "mimetype": "text/x-python",
   "name": "python",
   "nbconvert_exporter": "python",
   "pygments_lexer": "ipython3",
   "version": "3.6.6"
  }
 },
 "nbformat": 4,
 "nbformat_minor": 2
}
