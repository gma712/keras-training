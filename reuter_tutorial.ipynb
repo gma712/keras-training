{
 "cells": [
  {
   "cell_type": "code",
   "execution_count": 14,
   "metadata": {},
   "outputs": [],
   "source": [
    "from keras.datasets import reuters\n",
    "\n",
    "(train_data, train_labels), (test_data, test_labels) = reuters.load_data(num_words=10000)"
   ]
  },
  {
   "cell_type": "code",
   "execution_count": 15,
   "metadata": {},
   "outputs": [
    {
     "data": {
      "text/plain": [
       "[1,\n",
       " 245,\n",
       " 273,\n",
       " 207,\n",
       " 156,\n",
       " 53,\n",
       " 74,\n",
       " 160,\n",
       " 26,\n",
       " 14,\n",
       " 46,\n",
       " 296,\n",
       " 26,\n",
       " 39,\n",
       " 74,\n",
       " 2979,\n",
       " 3554,\n",
       " 14,\n",
       " 46,\n",
       " 4689,\n",
       " 4329,\n",
       " 86,\n",
       " 61,\n",
       " 3499,\n",
       " 4795,\n",
       " 14,\n",
       " 61,\n",
       " 451,\n",
       " 4329,\n",
       " 17,\n",
       " 12]"
      ]
     },
     "execution_count": 15,
     "metadata": {},
     "output_type": "execute_result"
    }
   ],
   "source": [
    "train_data[10]"
   ]
  },
  {
   "cell_type": "code",
   "execution_count": 7,
   "metadata": {},
   "outputs": [
    {
     "data": {
      "text/plain": [
       "'? shr 3 28 dlrs vs 22 cts shr diluted 2 99 dlrs vs 22 cts net 46 0 mln vs 3 328 000 avg shrs 14 0 mln vs 15 2 mln year shr 5 41 dlrs vs 1 56 dlrs shr diluted 4 94 dlrs vs 1 50 dlrs net 78 2 mln vs 25 9 mln avg shrs 14 5 mln vs 15 1 mln note earnings per share reflect the two for one split effective january 6 1987 per share amounts are calculated after preferred stock dividends loss continuing operations for the qtr 1986 includes gains of sale of investments in ? corp of 14 mln dlrs and associated companies of 4 189 000 less writedowns of investments in national ? inc of 11 8 mln and ? corp of 15 6 mln reuter 3'"
      ]
     },
     "execution_count": 7,
     "metadata": {},
     "output_type": "execute_result"
    }
   ],
   "source": [
    "word_index = reuters.get_word_index()\n",
    "reverse_word_index = dict([(v, k) for (k, v) in word_index.items()])\n",
    "\n",
    "decoded_newswire = ' '.join([reverse_word_index.get(i - 3, '?') for i in train_data[2]])\n",
    "decoded_newswire"
   ]
  },
  {
   "cell_type": "code",
   "execution_count": 24,
   "metadata": {},
   "outputs": [],
   "source": [
    "import numpy as np\n",
    "\n",
    "def vectorize_sequences(sequences, dimension=10000):\n",
    "    results = np.zeros((len(sequences), dimension))\n",
    "    for i, sequence in enumerate(sequences):\n",
    "        results[i, sequence] = 1.\n",
    "    return results\n",
    "\n",
    "x_train = vectorize_sequences(train_data)\n",
    "x_test = vectorize_sequences(test_data)"
   ]
  },
  {
   "cell_type": "code",
   "execution_count": 25,
   "metadata": {},
   "outputs": [
    {
     "data": {
      "text/plain": [
       "array([[0., 1., 1., ..., 0., 0., 0.],\n",
       "       [0., 1., 1., ..., 0., 0., 0.],\n",
       "       [0., 1., 1., ..., 0., 0., 0.],\n",
       "       ...,\n",
       "       [0., 1., 1., ..., 0., 0., 0.],\n",
       "       [0., 1., 1., ..., 0., 0., 0.],\n",
       "       [0., 1., 1., ..., 0., 0., 0.]])"
      ]
     },
     "execution_count": 25,
     "metadata": {},
     "output_type": "execute_result"
    }
   ],
   "source": [
    "x_train"
   ]
  },
  {
   "cell_type": "code",
   "execution_count": 26,
   "metadata": {},
   "outputs": [],
   "source": [
    "from keras import models\n",
    "from keras import layers\n",
    "\n",
    "model = models.Sequential()\n",
    "model.add(layers.Dense(64, activation='relu', input_shape=(10000,)))\n",
    "model.add(layers.Dense(64, activation='relu'))\n",
    "model.add(layers.Dense(46, activation='softmax'))"
   ]
  },
  {
   "cell_type": "code",
   "execution_count": 27,
   "metadata": {},
   "outputs": [],
   "source": [
    "model.compile(\n",
    "    optimizer='rmsprop',\n",
    "    loss='categorical_crossentropy',\n",
    "    metrics=['accuracy']\n",
    ")"
   ]
  },
  {
   "cell_type": "code",
   "execution_count": 32,
   "metadata": {},
   "outputs": [],
   "source": [
    "from keras.utils.np_utils import to_categorical\n",
    "\n",
    "x_val = x_train[:1000]\n",
    "partial_x_train = x_train[1000:]\n",
    "\n",
    "one_hot_train_labels = to_categorical(train_labels)\n",
    "one_hot_test_labels = to_categorical(test_labels)\n",
    "y_val = one_hot_train_labels[:1000]\n",
    "partial_y_train = one_hot_train_labels[1000:]"
   ]
  },
  {
   "cell_type": "code",
   "execution_count": 33,
   "metadata": {},
   "outputs": [
    {
     "name": "stdout",
     "output_type": "stream",
     "text": [
      "Train on 7982 samples, validate on 1000 samples\n",
      "Epoch 1/20\n",
      "7982/7982 [==============================] - 1s 74us/step - loss: 2.5415 - acc: 0.5228 - val_loss: 1.6846 - val_acc: 0.6420\n",
      "Epoch 2/20\n",
      "7982/7982 [==============================] - 1s 72us/step - loss: 1.3821 - acc: 0.7082 - val_loss: 1.2806 - val_acc: 0.7170\n",
      "Epoch 3/20\n",
      "7982/7982 [==============================] - 1s 73us/step - loss: 1.0183 - acc: 0.7769 - val_loss: 1.1110 - val_acc: 0.7680\n",
      "Epoch 4/20\n",
      "7982/7982 [==============================] - 1s 72us/step - loss: 0.7953 - acc: 0.8299 - val_loss: 1.0184 - val_acc: 0.7830\n",
      "Epoch 5/20\n",
      "7982/7982 [==============================] - 1s 75us/step - loss: 0.6362 - acc: 0.8649 - val_loss: 0.9509 - val_acc: 0.7990\n",
      "Epoch 6/20\n",
      "7982/7982 [==============================] - 1s 75us/step - loss: 0.5065 - acc: 0.8951 - val_loss: 0.9285 - val_acc: 0.8070\n",
      "Epoch 7/20\n",
      "7982/7982 [==============================] - 1s 73us/step - loss: 0.4091 - acc: 0.9131 - val_loss: 0.8893 - val_acc: 0.8170\n",
      "Epoch 8/20\n",
      "7982/7982 [==============================] - 1s 73us/step - loss: 0.3347 - acc: 0.9290 - val_loss: 0.8818 - val_acc: 0.8240\n",
      "Epoch 9/20\n",
      "7982/7982 [==============================] - 1s 72us/step - loss: 0.2763 - acc: 0.9411 - val_loss: 0.9259 - val_acc: 0.8050\n",
      "Epoch 10/20\n",
      "7982/7982 [==============================] - 1s 72us/step - loss: 0.2339 - acc: 0.9461 - val_loss: 0.9220 - val_acc: 0.8210\n",
      "Epoch 11/20\n",
      "7982/7982 [==============================] - 1s 73us/step - loss: 0.2047 - acc: 0.9493 - val_loss: 0.9692 - val_acc: 0.8040\n",
      "Epoch 12/20\n",
      "7982/7982 [==============================] - 1s 75us/step - loss: 0.1786 - acc: 0.9528 - val_loss: 0.9208 - val_acc: 0.8260\n",
      "Epoch 13/20\n",
      "7982/7982 [==============================] - 1s 72us/step - loss: 0.1627 - acc: 0.9560 - val_loss: 0.9474 - val_acc: 0.8140\n",
      "Epoch 14/20\n",
      "7982/7982 [==============================] - 1s 72us/step - loss: 0.1449 - acc: 0.9553 - val_loss: 0.9871 - val_acc: 0.8070\n",
      "Epoch 15/20\n",
      "7982/7982 [==============================] - 1s 72us/step - loss: 0.1430 - acc: 0.9549 - val_loss: 1.0077 - val_acc: 0.8080\n",
      "Epoch 16/20\n",
      "7982/7982 [==============================] - 1s 72us/step - loss: 0.1305 - acc: 0.9536 - val_loss: 1.0338 - val_acc: 0.8080\n",
      "Epoch 17/20\n",
      "7982/7982 [==============================] - 1s 72us/step - loss: 0.1211 - acc: 0.9574 - val_loss: 1.0698 - val_acc: 0.8020\n",
      "Epoch 18/20\n",
      "7982/7982 [==============================] - 1s 72us/step - loss: 0.1219 - acc: 0.9585 - val_loss: 1.0211 - val_acc: 0.8100\n",
      "Epoch 19/20\n",
      "7982/7982 [==============================] - 1s 72us/step - loss: 0.1140 - acc: 0.9578 - val_loss: 1.0565 - val_acc: 0.8050\n",
      "Epoch 20/20\n",
      "7982/7982 [==============================] - 1s 72us/step - loss: 0.1113 - acc: 0.9573 - val_loss: 1.0477 - val_acc: 0.8070\n"
     ]
    }
   ],
   "source": [
    "history = model.fit(\n",
    "    partial_x_train,\n",
    "    partial_y_train,\n",
    "    epochs=20,\n",
    "    batch_size=512,\n",
    "    validation_data=(x_val, y_val)\n",
    ")"
   ]
  },
  {
   "cell_type": "code",
   "execution_count": 34,
   "metadata": {},
   "outputs": [
    {
     "data": {
      "image/png": "[encoded data removed]",
      "text/plain": [
       "<Figure size 432x288 with 1 Axes>"
      ]
     },
     "metadata": {
      "needs_background": "light"
     },
     "output_type": "display_data"
    }
   ],
   "source": [
    "import matplotlib.pyplot as plt\n",
    "\n",
    "loss = history.history['loss']\n",
    "val_loss = history.history['val_loss']\n",
    "\n",
    "epochs = range(1, len(loss) + 1)\n",
    "\n",
    "plt.plot(epochs, loss, 'bo', label='Training loss')\n",
    "plt.plot(epochs, val_loss, 'b', label='Validation loss')\n",
    "plt.title('Training and validation loss')\n",
    "plt.xlabel('Epochs')\n",
    "plt.ylabel('Loss')\n",
    "plt.legend()\n",
    "plt.show()"
   ]
  },
  {
   "cell_type": "code",
   "execution_count": 35,
   "metadata": {},
   "outputs": [
    {
     "data": {
      "image/png": "[encoded data removed]",
      "text/plain": [
       "<Figure size 432x288 with 1 Axes>"
      ]
     },
     "metadata": {
      "needs_background": "light"
     },
     "output_type": "display_data"
    }
   ],
   "source": [
    "acc = history.history['acc']\n",
    "val_acc = history.history['val_acc']\n",
    "\n",
    "plt.plot(epochs, acc, 'bo', label = 'Training acc')\n",
    "plt.plot(epochs, val_acc, 'b', label='Validation acc')\n",
    "plt.title('Training and validation accuracy')\n",
    "plt.xlabel('Epochs')\n",
    "plt.ylabel('Accuracy')\n",
    "plt.show()"
   ]
  },
  {
   "cell_type": "code",
   "execution_count": 37,
   "metadata": {},
   "outputs": [
    {
     "name": "stdout",
     "output_type": "stream",
     "text": [
      "Train on 7982 samples, validate on 1000 samples\n",
      "Epoch 1/8\n",
      "7982/7982 [==============================] - 1s 105us/step - loss: 2.8535 - acc: 0.4022 - val_loss: 1.9506 - val_acc: 0.6340\n",
      "Epoch 2/8\n",
      "7982/7982 [==============================] - 1s 73us/step - loss: 1.5744 - acc: 0.6898 - val_loss: 1.3817 - val_acc: 0.7110\n",
      "Epoch 3/8\n",
      "7982/7982 [==============================] - 1s 72us/step - loss: 1.1286 - acc: 0.7676 - val_loss: 1.1845 - val_acc: 0.7390\n",
      "Epoch 4/8\n",
      "7982/7982 [==============================] - 1s 73us/step - loss: 0.8774 - acc: 0.8226 - val_loss: 1.0474 - val_acc: 0.7810\n",
      "Epoch 5/8\n",
      "7982/7982 [==============================] - 1s 72us/step - loss: 0.6982 - acc: 0.8559 - val_loss: 0.9800 - val_acc: 0.8030\n",
      "Epoch 6/8\n",
      "7982/7982 [==============================] - 1s 72us/step - loss: 0.5531 - acc: 0.8899 - val_loss: 0.9446 - val_acc: 0.7990\n",
      "Epoch 7/8\n",
      "7982/7982 [==============================] - 1s 72us/step - loss: 0.4479 - acc: 0.9100 - val_loss: 0.9432 - val_acc: 0.8090\n",
      "Epoch 8/8\n",
      "7982/7982 [==============================] - 1s 72us/step - loss: 0.3678 - acc: 0.9256 - val_loss: 0.9017 - val_acc: 0.8080\n",
      "2246/2246 [==============================] - 0s 104us/step\n"
     ]
    }
   ],
   "source": [
    "model = models.Sequential()\n",
    "model.add(layers.Dense(64, activation='relu', input_shape=(10000,)))\n",
    "model.add(layers.Dense(64, activation='relu'))\n",
    "model.add(layers.Dense(46, activation='softmax'))\n",
    "\n",
    "model.compile(optimizer='rmsprop', loss='categorical_crossentropy', metrics=['accuracy'])\n",
    "\n",
    "model.fit(\n",
    "    partial_x_train,\n",
    "    partial_y_train,\n",
    "    epochs=8,\n",
    "    batch_size=512,\n",
    "    validation_data=(x_val, y_val)\n",
    ")\n",
    "results = model.evaluate(x_test, one_hot_test_labels)"
   ]
  },
  {
   "cell_type": "code",
   "execution_count": 38,
   "metadata": {},
   "outputs": [
    {
     "data": {
      "text/plain": [
       "[0.9745568277999321, 0.7876224399462196]"
      ]
     },
     "execution_count": 38,
     "metadata": {},
     "output_type": "execute_result"
    }
   ],
   "source": [
    "results"
   ]
  },
  {
   "cell_type": "code",
   "execution_count": 39,
   "metadata": {},
   "outputs": [],
   "source": [
    "predictions = model.predict(x_test)"
   ]
  },
  {
   "cell_type": "code",
   "execution_count": 43,
   "metadata": {},
   "outputs": [
    {
     "data": {
      "text/plain": [
       "3"
      ]
     },
     "execution_count": 43,
     "metadata": {},
     "output_type": "execute_result"
    }
   ],
   "source": [
    "np.argmax(predictions[0])"
   ]
  },
  {
   "cell_type": "code",
   "execution_count": 45,
   "metadata": {},
   "outputs": [],
   "source": [
    "#中間層の大きさ実験\n",
    "\n",
    "model = models.Sequential()\n",
    "model.add(layers.Dense(64, activation='relu', input_shape=(10000,)))\n",
    "model.add(layers.Dense(4, activation='relu'))\n",
    "model.add(layers.Dense(46, activation='softmax'))\n",
    "\n",
    "model.compile(optimizer='rmsprop', loss='categorical_crossentropy', metrics=['accuracy'])"
   ]
  },
  {
   "cell_type": "code",
   "execution_count": 46,
   "metadata": {},
   "outputs": [
    {
     "name": "stdout",
     "output_type": "stream",
     "text": [
      "Train on 7982 samples, validate on 1000 samples\n",
      "Epoch 1/20\n",
      "7982/7982 [==============================] - 1s 138us/step - loss: 2.8698 - acc: 0.2400 - val_loss: 2.2532 - val_acc: 0.2740\n",
      "Epoch 2/20\n",
      "7982/7982 [==============================] - 1s 103us/step - loss: 1.9572 - acc: 0.5645 - val_loss: 1.7833 - val_acc: 0.6310\n",
      "Epoch 3/20\n",
      "7982/7982 [==============================] - 1s 98us/step - loss: 1.6352 - acc: 0.6429 - val_loss: 1.6446 - val_acc: 0.6280\n",
      "Epoch 4/20\n",
      "7982/7982 [==============================] - 1s 100us/step - loss: 1.4963 - acc: 0.6526 - val_loss: 1.6089 - val_acc: 0.6280\n",
      "Epoch 5/20\n",
      "7982/7982 [==============================] - 1s 98us/step - loss: 1.4124 - acc: 0.6587 - val_loss: 1.5896 - val_acc: 0.6370\n",
      "Epoch 6/20\n",
      "7982/7982 [==============================] - 1s 98us/step - loss: 1.3491 - acc: 0.6642 - val_loss: 1.5768 - val_acc: 0.6440\n",
      "Epoch 7/20\n",
      "7982/7982 [==============================] - 1s 99us/step - loss: 1.2946 - acc: 0.6645 - val_loss: 1.5935 - val_acc: 0.6370\n",
      "Epoch 8/20\n",
      "7982/7982 [==============================] - 1s 99us/step - loss: 1.2474 - acc: 0.6635 - val_loss: 1.5708 - val_acc: 0.6410\n",
      "Epoch 9/20\n",
      "7982/7982 [==============================] - 1s 100us/step - loss: 1.2088 - acc: 0.6645 - val_loss: 1.6036 - val_acc: 0.6280\n",
      "Epoch 10/20\n",
      "7982/7982 [==============================] - 1s 103us/step - loss: 1.1781 - acc: 0.6674 - val_loss: 1.5782 - val_acc: 0.6430\n",
      "Epoch 11/20\n",
      "7982/7982 [==============================] - 1s 99us/step - loss: 1.1480 - acc: 0.6689 - val_loss: 1.6143 - val_acc: 0.6410\n",
      "Epoch 12/20\n",
      "7982/7982 [==============================] - 1s 99us/step - loss: 1.1230 - acc: 0.6741 - val_loss: 1.6168 - val_acc: 0.6450\n",
      "Epoch 13/20\n",
      "7982/7982 [==============================] - 1s 100us/step - loss: 1.1022 - acc: 0.6760 - val_loss: 1.6743 - val_acc: 0.6460\n",
      "Epoch 14/20\n",
      "7982/7982 [==============================] - 1s 99us/step - loss: 1.0829 - acc: 0.6803 - val_loss: 1.6582 - val_acc: 0.6410\n",
      "Epoch 15/20\n",
      "7982/7982 [==============================] - 1s 105us/step - loss: 1.0685 - acc: 0.6894 - val_loss: 1.7024 - val_acc: 0.6380\n",
      "Epoch 16/20\n",
      "7982/7982 [==============================] - 1s 101us/step - loss: 1.0528 - acc: 0.6932 - val_loss: 1.7099 - val_acc: 0.6390\n",
      "Epoch 17/20\n",
      "7982/7982 [==============================] - 1s 99us/step - loss: 1.0395 - acc: 0.7032 - val_loss: 1.7562 - val_acc: 0.6340\n",
      "Epoch 18/20\n",
      "7982/7982 [==============================] - 1s 101us/step - loss: 1.0304 - acc: 0.7091 - val_loss: 1.7923 - val_acc: 0.6370\n",
      "Epoch 19/20\n",
      "7982/7982 [==============================] - 1s 99us/step - loss: 1.0185 - acc: 0.7085 - val_loss: 1.8201 - val_acc: 0.6360\n",
      "Epoch 20/20\n",
      "7982/7982 [==============================] - 1s 103us/step - loss: 1.0086 - acc: 0.7195 - val_loss: 1.8191 - val_acc: 0.6320\n"
     ]
    },
    {
     "data": {
      "text/plain": [
       "<keras.callbacks.History at 0x16d05fe10>"
      ]
     },
     "execution_count": 46,
     "metadata": {},
     "output_type": "execute_result"
    }
   ],
   "source": [
    "model.fit(\n",
    "    partial_x_train,\n",
    "    partial_y_train,\n",
    "    epochs=20,\n",
    "    batch_size=128,\n",
    "    validation_data=(x_val, y_val)\n",
    ")"
   ]
  },
  {
   "cell_type": "code",
   "execution_count": null,
   "metadata": {},
   "outputs": [],
   "source": []
  }
 ],
 "metadata": {
  "kernelspec": {
   "display_name": "Python 3",
   "language": "python",
   "name": "python3"
  },
  "language_info": {
   "codemirror_mode": {
    "name": "ipython",
    "version": 3
   },
   "file_extension": ".py",
   "mimetype": "text/x-python",
   "name": "python",
   "nbconvert_exporter": "python",
   "pygments_lexer": "ipython3",
   "version": "3.6.6"
  }
 },
 "nbformat": 4,
 "nbformat_minor": 2
}
